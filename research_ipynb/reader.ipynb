{
 "cells": [
  {
   "cell_type": "code",
   "execution_count": 1,
   "metadata": {},
   "outputs": [],
   "source": [
    "#pip install -r ../requirements.txt"
   ]
  },
  {
   "cell_type": "code",
   "execution_count": 2,
   "metadata": {},
   "outputs": [],
   "source": [
    "from pypdf import PdfReader\n",
    "import base64\n",
    "import io\n",
    "from PIL import Image"
   ]
  },
  {
   "cell_type": "code",
   "execution_count": 3,
   "metadata": {},
   "outputs": [
    {
     "name": "stdout",
     "output_type": "stream",
     "text": [
      "ЭКСПЕРТНОЕ  РЕЗЮМЕ\n",
      "ПЕРСПЕКТИВЫ  УГОЛЬНОЙ\n",
      "ПРОМЫШЛЕННОСТИ  РОССИИ\n",
      "ОКТЯБРЬ  2024\n",
      "ЧАСТЬ  1. ОСНОВНЫЕ  ВЫВОДЫ\n",
      "ПОДГОТОВЛЕНО  N. TRANS LAB\n",
      "HIGHWAY TO HELL\n",
      "Как нет смысла выращивать\n",
      "апельсины в Арктике и\n",
      "конкурировать с Бразилией,\n",
      "так и нет смысла наращивать\n",
      "убыточный экспорт угля в РФ\n",
      "1\n"
     ]
    }
   ],
   "source": [
    "reader = PdfReader(\"../data/Доклад, уголь часть 1.pdf\")\n",
    "page = reader.pages[0]\n",
    "print(page.extract_text())"
   ]
  },
  {
   "cell_type": "code",
   "execution_count": 4,
   "metadata": {},
   "outputs": [
    {
     "name": "stdout",
     "output_type": "stream",
     "text": [
      "Found 72 images\n"
     ]
    }
   ],
   "source": [
    "# Создаем список изображений в формате base64\n",
    "images_base64 = []\n",
    "for page in reader.pages:\n",
    "    for image in page.images:\n",
    "        # Конвертируем бинарные данные в base64\n",
    "        base64_data = base64.b64encode(image.data).decode('utf-8')\n",
    "        # Добавляем в формате data:image/jpeg;base64,{data}\n",
    "        images_base64.append(f\"data:image/jpeg;base64,{base64_data}\")\n",
    "\n",
    "# Выводим список изображений\n",
    "print(f\"Found {len(images_base64)} images\")  # Display the list"
   ]
  }
 ],
 "metadata": {
  "kernelspec": {
   "display_name": "Python 3",
   "language": "python",
   "name": "python3"
  },
  "language_info": {
   "codemirror_mode": {
    "name": "ipython",
    "version": 3
   },
   "file_extension": ".py",
   "mimetype": "text/x-python",
   "name": "python",
   "nbconvert_exporter": "python",
   "pygments_lexer": "ipython3",
   "version": "3.10.12"
  }
 },
 "nbformat": 4,
 "nbformat_minor": 2
}
